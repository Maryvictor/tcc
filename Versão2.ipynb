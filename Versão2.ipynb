{
  "nbformat": 4,
  "nbformat_minor": 0,
  "metadata": {
    "colab": {
      "provenance": [],
      "authorship_tag": "ABX9TyNsHmXgR9na0BUqFm5qVF9r",
      "include_colab_link": true
    },
    "kernelspec": {
      "name": "python3",
      "display_name": "Python 3"
    },
    "language_info": {
      "name": "python"
    }
  },
  "cells": [
    {
      "cell_type": "markdown",
      "metadata": {
        "id": "view-in-github",
        "colab_type": "text"
      },
      "source": [
        "<a href=\"https://colab.research.google.com/github/Maryvictor/tcc/blob/vers%C3%A3o2/Vers%C3%A3o2.ipynb\" target=\"_parent\"><img src=\"https://colab.research.google.com/assets/colab-badge.svg\" alt=\"Open In Colab\"/></a>"
      ]
    },
    {
      "cell_type": "code",
      "execution_count": null,
      "metadata": {
        "id": "uLpcE_3cF_Rg"
      },
      "outputs": [],
      "source": [
        "#importação das bibliotecas para nos ajudar a fazer a limpeza de dados\n",
        "import pandas as pd\n",
        "import matplotlib.pyplot as plt\n",
        "import seaborn as sns \n",
        "import numpy as np\n"
      ]
    },
    {
      "cell_type": "code",
      "source": [
        "df = pd.read_csv('AIH_M_2017.csv')"
      ],
      "metadata": {
        "id": "smyHvTQuP6WM"
      },
      "execution_count": null,
      "outputs": []
    },
    {
      "cell_type": "code",
      "source": [
        "df.head() #para visualizar o começo do seu dataframe"
      ],
      "metadata": {
        "id": "UbfSDnLIQfIA",
        "colab": {
          "base_uri": "https://localhost:8080/",
          "height": 629
        },
        "outputId": "e7574f58-d022-4caa-d5cf-cda5008e262c"
      },
      "execution_count": 57,
      "outputs": [
        {
          "output_type": "execute_result",
          "data": {
            "text/plain": [
              "   id                                        id_aih cnes  \\\n",
              "0   1     852616105147865201701M260290001M260290001   35   \n",
              "1   2     852616105147865201701M260290001M260290001   35   \n",
              "2   3     862616105147876201701M260290001M260290001   35   \n",
              "3   4     862616105147876201701M260290001M260290001   35   \n",
              "4   5  307772617100644730201701E260000001E260000001  396   \n",
              "\n",
              "                cnes_nome           cnes_bairro  nascimento  idade sexo  \\\n",
              "0  HOSPITAL MENDO SAMPAIO              CHARNECA  09/06/1977   39.0    M   \n",
              "1  HOSPITAL MENDO SAMPAIO              CHARNECA  09/06/1977   39.0    M   \n",
              "2  HOSPITAL MENDO SAMPAIO              CHARNECA  27/03/1972   44.0    M   \n",
              "3  HOSPITAL MENDO SAMPAIO              CHARNECA  27/03/1972   44.0    M   \n",
              "4   HOSPITAL DAS CLINICAS  CIDADE UNIVERSITARIA  26/08/1995   21.0    M   \n",
              "\n",
              "             raca nacionalidade  ...  uf  \\\n",
              "0  SEM INFORMACAO        BRASIL  ...  PE   \n",
              "1  SEM INFORMACAO        BRASIL  ...  PE   \n",
              "2  SEM INFORMACAO        BRASIL  ...  PE   \n",
              "3  SEM INFORMACAO        BRASIL  ...  PE   \n",
              "4          BRANCA        BRASIL  ...  PE   \n",
              "\n",
              "                             procedimento_solicitado mudou_prc_solicitado  \\\n",
              "0  0308020030 TRATAMENTO DE INTOXICACAO OU ENVENE...                  NAO   \n",
              "1  0308020030 TRATAMENTO DE INTOXICACAO OU ENVENE...                  NAO   \n",
              "2  0308020030 TRATAMENTO DE INTOXICACAO OU ENVENE...                  NAO   \n",
              "3  0308020030 TRATAMENTO DE INTOXICACAO OU ENVENE...                  NAO   \n",
              "4   0409050148 REDESIGNAC?O SEXUAL NO SEXO MASCULINO                  NAO   \n",
              "\n",
              "                              procedimento_realizado  \\\n",
              "0  0308020030 TRATAMENTO DE INTOXICACAO OU ENVENE...   \n",
              "1  0308020030 TRATAMENTO DE INTOXICACAO OU ENVENE...   \n",
              "2  0308020030 TRATAMENTO DE INTOXICACAO OU ENVENE...   \n",
              "3  0308020030 TRATAMENTO DE INTOXICACAO OU ENVENE...   \n",
              "4   0409050148 REDESIGNAC?O SEXUAL NO SEXO MASCULINO   \n",
              "\n",
              "                                      diag_principal      carater  \\\n",
              "0  F100 Transtornos mentais e comportamentais dev...  02-URGENCIA   \n",
              "1  F100 Transtornos mentais e comportamentais dev...  02-URGENCIA   \n",
              "2  F100 Transtornos mentais e comportamentais dev...  02-URGENCIA   \n",
              "3  F100 Transtornos mentais e comportamentais dev...  02-URGENCIA   \n",
              "4                                F640 Transexualismo   01-ELETIVO   \n",
              "\n",
              "  modalidade_internacao data_intern  data_saida                      mot_saida  \n",
              "0         02-HOSPITALAR  01/12/2016  23/12/2016              12-ALTA MELHORADO  \n",
              "1         02-HOSPITALAR  01/12/2016  23/12/2016              12-ALTA MELHORADO  \n",
              "2         02-HOSPITALAR  05/12/2016  14/12/2016              12-ALTA MELHORADO  \n",
              "3         02-HOSPITALAR  05/12/2016  14/12/2016              12-ALTA MELHORADO  \n",
              "4         02-HOSPITALAR  21/12/2016  24/12/2016  27-PERMANENCIA POR REOPERACAO  \n",
              "\n",
              "[5 rows x 22 columns]"
            ],
            "text/html": [
              "\n",
              "  <div id=\"df-d4a6246d-06c8-44ce-a7ed-ff6af9cdfd32\">\n",
              "    <div class=\"colab-df-container\">\n",
              "      <div>\n",
              "<style scoped>\n",
              "    .dataframe tbody tr th:only-of-type {\n",
              "        vertical-align: middle;\n",
              "    }\n",
              "\n",
              "    .dataframe tbody tr th {\n",
              "        vertical-align: top;\n",
              "    }\n",
              "\n",
              "    .dataframe thead th {\n",
              "        text-align: right;\n",
              "    }\n",
              "</style>\n",
              "<table border=\"1\" class=\"dataframe\">\n",
              "  <thead>\n",
              "    <tr style=\"text-align: right;\">\n",
              "      <th></th>\n",
              "      <th>id</th>\n",
              "      <th>id_aih</th>\n",
              "      <th>cnes</th>\n",
              "      <th>cnes_nome</th>\n",
              "      <th>cnes_bairro</th>\n",
              "      <th>nascimento</th>\n",
              "      <th>idade</th>\n",
              "      <th>sexo</th>\n",
              "      <th>raca</th>\n",
              "      <th>nacionalidade</th>\n",
              "      <th>...</th>\n",
              "      <th>uf</th>\n",
              "      <th>procedimento_solicitado</th>\n",
              "      <th>mudou_prc_solicitado</th>\n",
              "      <th>procedimento_realizado</th>\n",
              "      <th>diag_principal</th>\n",
              "      <th>carater</th>\n",
              "      <th>modalidade_internacao</th>\n",
              "      <th>data_intern</th>\n",
              "      <th>data_saida</th>\n",
              "      <th>mot_saida</th>\n",
              "    </tr>\n",
              "  </thead>\n",
              "  <tbody>\n",
              "    <tr>\n",
              "      <th>0</th>\n",
              "      <td>1</td>\n",
              "      <td>852616105147865201701M260290001M260290001</td>\n",
              "      <td>35</td>\n",
              "      <td>HOSPITAL MENDO SAMPAIO</td>\n",
              "      <td>CHARNECA</td>\n",
              "      <td>09/06/1977</td>\n",
              "      <td>39.0</td>\n",
              "      <td>M</td>\n",
              "      <td>SEM INFORMACAO</td>\n",
              "      <td>BRASIL</td>\n",
              "      <td>...</td>\n",
              "      <td>PE</td>\n",
              "      <td>0308020030 TRATAMENTO DE INTOXICACAO OU ENVENE...</td>\n",
              "      <td>NAO</td>\n",
              "      <td>0308020030 TRATAMENTO DE INTOXICACAO OU ENVENE...</td>\n",
              "      <td>F100 Transtornos mentais e comportamentais dev...</td>\n",
              "      <td>02-URGENCIA</td>\n",
              "      <td>02-HOSPITALAR</td>\n",
              "      <td>01/12/2016</td>\n",
              "      <td>23/12/2016</td>\n",
              "      <td>12-ALTA MELHORADO</td>\n",
              "    </tr>\n",
              "    <tr>\n",
              "      <th>1</th>\n",
              "      <td>2</td>\n",
              "      <td>852616105147865201701M260290001M260290001</td>\n",
              "      <td>35</td>\n",
              "      <td>HOSPITAL MENDO SAMPAIO</td>\n",
              "      <td>CHARNECA</td>\n",
              "      <td>09/06/1977</td>\n",
              "      <td>39.0</td>\n",
              "      <td>M</td>\n",
              "      <td>SEM INFORMACAO</td>\n",
              "      <td>BRASIL</td>\n",
              "      <td>...</td>\n",
              "      <td>PE</td>\n",
              "      <td>0308020030 TRATAMENTO DE INTOXICACAO OU ENVENE...</td>\n",
              "      <td>NAO</td>\n",
              "      <td>0308020030 TRATAMENTO DE INTOXICACAO OU ENVENE...</td>\n",
              "      <td>F100 Transtornos mentais e comportamentais dev...</td>\n",
              "      <td>02-URGENCIA</td>\n",
              "      <td>02-HOSPITALAR</td>\n",
              "      <td>01/12/2016</td>\n",
              "      <td>23/12/2016</td>\n",
              "      <td>12-ALTA MELHORADO</td>\n",
              "    </tr>\n",
              "    <tr>\n",
              "      <th>2</th>\n",
              "      <td>3</td>\n",
              "      <td>862616105147876201701M260290001M260290001</td>\n",
              "      <td>35</td>\n",
              "      <td>HOSPITAL MENDO SAMPAIO</td>\n",
              "      <td>CHARNECA</td>\n",
              "      <td>27/03/1972</td>\n",
              "      <td>44.0</td>\n",
              "      <td>M</td>\n",
              "      <td>SEM INFORMACAO</td>\n",
              "      <td>BRASIL</td>\n",
              "      <td>...</td>\n",
              "      <td>PE</td>\n",
              "      <td>0308020030 TRATAMENTO DE INTOXICACAO OU ENVENE...</td>\n",
              "      <td>NAO</td>\n",
              "      <td>0308020030 TRATAMENTO DE INTOXICACAO OU ENVENE...</td>\n",
              "      <td>F100 Transtornos mentais e comportamentais dev...</td>\n",
              "      <td>02-URGENCIA</td>\n",
              "      <td>02-HOSPITALAR</td>\n",
              "      <td>05/12/2016</td>\n",
              "      <td>14/12/2016</td>\n",
              "      <td>12-ALTA MELHORADO</td>\n",
              "    </tr>\n",
              "    <tr>\n",
              "      <th>3</th>\n",
              "      <td>4</td>\n",
              "      <td>862616105147876201701M260290001M260290001</td>\n",
              "      <td>35</td>\n",
              "      <td>HOSPITAL MENDO SAMPAIO</td>\n",
              "      <td>CHARNECA</td>\n",
              "      <td>27/03/1972</td>\n",
              "      <td>44.0</td>\n",
              "      <td>M</td>\n",
              "      <td>SEM INFORMACAO</td>\n",
              "      <td>BRASIL</td>\n",
              "      <td>...</td>\n",
              "      <td>PE</td>\n",
              "      <td>0308020030 TRATAMENTO DE INTOXICACAO OU ENVENE...</td>\n",
              "      <td>NAO</td>\n",
              "      <td>0308020030 TRATAMENTO DE INTOXICACAO OU ENVENE...</td>\n",
              "      <td>F100 Transtornos mentais e comportamentais dev...</td>\n",
              "      <td>02-URGENCIA</td>\n",
              "      <td>02-HOSPITALAR</td>\n",
              "      <td>05/12/2016</td>\n",
              "      <td>14/12/2016</td>\n",
              "      <td>12-ALTA MELHORADO</td>\n",
              "    </tr>\n",
              "    <tr>\n",
              "      <th>4</th>\n",
              "      <td>5</td>\n",
              "      <td>307772617100644730201701E260000001E260000001</td>\n",
              "      <td>396</td>\n",
              "      <td>HOSPITAL DAS CLINICAS</td>\n",
              "      <td>CIDADE UNIVERSITARIA</td>\n",
              "      <td>26/08/1995</td>\n",
              "      <td>21.0</td>\n",
              "      <td>M</td>\n",
              "      <td>BRANCA</td>\n",
              "      <td>BRASIL</td>\n",
              "      <td>...</td>\n",
              "      <td>PE</td>\n",
              "      <td>0409050148 REDESIGNAC?O SEXUAL NO SEXO MASCULINO</td>\n",
              "      <td>NAO</td>\n",
              "      <td>0409050148 REDESIGNAC?O SEXUAL NO SEXO MASCULINO</td>\n",
              "      <td>F640 Transexualismo</td>\n",
              "      <td>01-ELETIVO</td>\n",
              "      <td>02-HOSPITALAR</td>\n",
              "      <td>21/12/2016</td>\n",
              "      <td>24/12/2016</td>\n",
              "      <td>27-PERMANENCIA POR REOPERACAO</td>\n",
              "    </tr>\n",
              "  </tbody>\n",
              "</table>\n",
              "<p>5 rows × 22 columns</p>\n",
              "</div>\n",
              "      <button class=\"colab-df-convert\" onclick=\"convertToInteractive('df-d4a6246d-06c8-44ce-a7ed-ff6af9cdfd32')\"\n",
              "              title=\"Convert this dataframe to an interactive table.\"\n",
              "              style=\"display:none;\">\n",
              "        \n",
              "  <svg xmlns=\"http://www.w3.org/2000/svg\" height=\"24px\"viewBox=\"0 0 24 24\"\n",
              "       width=\"24px\">\n",
              "    <path d=\"M0 0h24v24H0V0z\" fill=\"none\"/>\n",
              "    <path d=\"M18.56 5.44l.94 2.06.94-2.06 2.06-.94-2.06-.94-.94-2.06-.94 2.06-2.06.94zm-11 1L8.5 8.5l.94-2.06 2.06-.94-2.06-.94L8.5 2.5l-.94 2.06-2.06.94zm10 10l.94 2.06.94-2.06 2.06-.94-2.06-.94-.94-2.06-.94 2.06-2.06.94z\"/><path d=\"M17.41 7.96l-1.37-1.37c-.4-.4-.92-.59-1.43-.59-.52 0-1.04.2-1.43.59L10.3 9.45l-7.72 7.72c-.78.78-.78 2.05 0 2.83L4 21.41c.39.39.9.59 1.41.59.51 0 1.02-.2 1.41-.59l7.78-7.78 2.81-2.81c.8-.78.8-2.07 0-2.86zM5.41 20L4 18.59l7.72-7.72 1.47 1.35L5.41 20z\"/>\n",
              "  </svg>\n",
              "      </button>\n",
              "      \n",
              "  <style>\n",
              "    .colab-df-container {\n",
              "      display:flex;\n",
              "      flex-wrap:wrap;\n",
              "      gap: 12px;\n",
              "    }\n",
              "\n",
              "    .colab-df-convert {\n",
              "      background-color: #E8F0FE;\n",
              "      border: none;\n",
              "      border-radius: 50%;\n",
              "      cursor: pointer;\n",
              "      display: none;\n",
              "      fill: #1967D2;\n",
              "      height: 32px;\n",
              "      padding: 0 0 0 0;\n",
              "      width: 32px;\n",
              "    }\n",
              "\n",
              "    .colab-df-convert:hover {\n",
              "      background-color: #E2EBFA;\n",
              "      box-shadow: 0px 1px 2px rgba(60, 64, 67, 0.3), 0px 1px 3px 1px rgba(60, 64, 67, 0.15);\n",
              "      fill: #174EA6;\n",
              "    }\n",
              "\n",
              "    [theme=dark] .colab-df-convert {\n",
              "      background-color: #3B4455;\n",
              "      fill: #D2E3FC;\n",
              "    }\n",
              "\n",
              "    [theme=dark] .colab-df-convert:hover {\n",
              "      background-color: #434B5C;\n",
              "      box-shadow: 0px 1px 3px 1px rgba(0, 0, 0, 0.15);\n",
              "      filter: drop-shadow(0px 1px 2px rgba(0, 0, 0, 0.3));\n",
              "      fill: #FFFFFF;\n",
              "    }\n",
              "  </style>\n",
              "\n",
              "      <script>\n",
              "        const buttonEl =\n",
              "          document.querySelector('#df-d4a6246d-06c8-44ce-a7ed-ff6af9cdfd32 button.colab-df-convert');\n",
              "        buttonEl.style.display =\n",
              "          google.colab.kernel.accessAllowed ? 'block' : 'none';\n",
              "\n",
              "        async function convertToInteractive(key) {\n",
              "          const element = document.querySelector('#df-d4a6246d-06c8-44ce-a7ed-ff6af9cdfd32');\n",
              "          const dataTable =\n",
              "            await google.colab.kernel.invokeFunction('convertToInteractive',\n",
              "                                                     [key], {});\n",
              "          if (!dataTable) return;\n",
              "\n",
              "          const docLinkHtml = 'Like what you see? Visit the ' +\n",
              "            '<a target=\"_blank\" href=https://colab.research.google.com/notebooks/data_table.ipynb>data table notebook</a>'\n",
              "            + ' to learn more about interactive tables.';\n",
              "          element.innerHTML = '';\n",
              "          dataTable['output_type'] = 'display_data';\n",
              "          await google.colab.output.renderOutput(dataTable, element);\n",
              "          const docLink = document.createElement('div');\n",
              "          docLink.innerHTML = docLinkHtml;\n",
              "          element.appendChild(docLink);\n",
              "        }\n",
              "      </script>\n",
              "    </div>\n",
              "  </div>\n",
              "  "
            ]
          },
          "metadata": {},
          "execution_count": 57
        }
      ]
    },
    {
      "cell_type": "code",
      "source": [
        "df.info() #para obter informações do seu dataframe\n",
        "#Os dados inicias possuem 722526 entradas e 26 colunas(já foram modificadas)\n",
        "#Não possuem dados nulos, mas existem tem colunas que estão com todos os dados 0 - ok\n",
        "#Podemos deixar cnes como object \n",
        "#Coluna ibge tb deverá ser excluido -ok\n",
        "#Tratar o campo da idade\n"
      ],
      "metadata": {
        "colab": {
          "base_uri": "https://localhost:8080/"
        },
        "id": "aPhQIMAZRC6U",
        "outputId": "40e11ffe-1ebe-4747-ac61-38d8d94adedd"
      },
      "execution_count": 58,
      "outputs": [
        {
          "output_type": "stream",
          "name": "stdout",
          "text": [
            "<class 'pandas.core.frame.DataFrame'>\n",
            "Int64Index: 722524 entries, 0 to 722525\n",
            "Data columns (total 22 columns):\n",
            " #   Column                   Non-Null Count   Dtype   \n",
            "---  ------                   --------------   -----   \n",
            " 0   id                       722524 non-null  int64   \n",
            " 1   id_aih                   722524 non-null  object  \n",
            " 2   cnes                     722524 non-null  category\n",
            " 3   cnes_nome                722524 non-null  object  \n",
            " 4   cnes_bairro              722524 non-null  object  \n",
            " 5   nascimento               722524 non-null  object  \n",
            " 6   idade                    716159 non-null  float64 \n",
            " 7   sexo                     722524 non-null  object  \n",
            " 8   raca                     722524 non-null  object  \n",
            " 9   nacionalidade            722524 non-null  object  \n",
            " 10  bairro                   722524 non-null  object  \n",
            " 11  municipio                722524 non-null  object  \n",
            " 12  uf                       722524 non-null  object  \n",
            " 13  procedimento_solicitado  722524 non-null  object  \n",
            " 14  mudou_prc_solicitado     722524 non-null  object  \n",
            " 15  procedimento_realizado   722524 non-null  object  \n",
            " 16  diag_principal           722524 non-null  object  \n",
            " 17  carater                  722524 non-null  object  \n",
            " 18  modalidade_internacao    722524 non-null  object  \n",
            " 19  data_intern              722524 non-null  object  \n",
            " 20  data_saida               722524 non-null  object  \n",
            " 21  mot_saida                722524 non-null  object  \n",
            "dtypes: category(1), float64(1), int64(1), object(19)\n",
            "memory usage: 122.7+ MB\n"
          ]
        }
      ]
    },
    {
      "cell_type": "code",
      "source": [],
      "metadata": {
        "id": "_S1ECBShaimp"
      },
      "execution_count": null,
      "outputs": []
    },
    {
      "cell_type": "code",
      "source": [
        "df.describe() #para ver um descrição mais detalhada \n"
      ],
      "metadata": {
        "colab": {
          "base_uri": "https://localhost:8080/",
          "height": 300
        },
        "id": "pMVyeeyJRP4D",
        "outputId": "89a399c5-6daf-4c76-994d-4ad60929af16"
      },
      "execution_count": 59,
      "outputs": [
        {
          "output_type": "execute_result",
          "data": {
            "text/plain": [
              "                  id          idade\n",
              "count  722524.000000  716159.000000\n",
              "mean   361263.242242      41.195920\n",
              "std    208575.665774      14.286733\n",
              "min         1.000000       2.000000\n",
              "25%    180631.750000      30.000000\n",
              "50%    361262.500000      40.000000\n",
              "75%    541895.250000      51.000000\n",
              "max    722526.000000      81.000000"
            ],
            "text/html": [
              "\n",
              "  <div id=\"df-8ad724d9-340b-46da-9787-7b258f0ad881\">\n",
              "    <div class=\"colab-df-container\">\n",
              "      <div>\n",
              "<style scoped>\n",
              "    .dataframe tbody tr th:only-of-type {\n",
              "        vertical-align: middle;\n",
              "    }\n",
              "\n",
              "    .dataframe tbody tr th {\n",
              "        vertical-align: top;\n",
              "    }\n",
              "\n",
              "    .dataframe thead th {\n",
              "        text-align: right;\n",
              "    }\n",
              "</style>\n",
              "<table border=\"1\" class=\"dataframe\">\n",
              "  <thead>\n",
              "    <tr style=\"text-align: right;\">\n",
              "      <th></th>\n",
              "      <th>id</th>\n",
              "      <th>idade</th>\n",
              "    </tr>\n",
              "  </thead>\n",
              "  <tbody>\n",
              "    <tr>\n",
              "      <th>count</th>\n",
              "      <td>722524.000000</td>\n",
              "      <td>716159.000000</td>\n",
              "    </tr>\n",
              "    <tr>\n",
              "      <th>mean</th>\n",
              "      <td>361263.242242</td>\n",
              "      <td>41.195920</td>\n",
              "    </tr>\n",
              "    <tr>\n",
              "      <th>std</th>\n",
              "      <td>208575.665774</td>\n",
              "      <td>14.286733</td>\n",
              "    </tr>\n",
              "    <tr>\n",
              "      <th>min</th>\n",
              "      <td>1.000000</td>\n",
              "      <td>2.000000</td>\n",
              "    </tr>\n",
              "    <tr>\n",
              "      <th>25%</th>\n",
              "      <td>180631.750000</td>\n",
              "      <td>30.000000</td>\n",
              "    </tr>\n",
              "    <tr>\n",
              "      <th>50%</th>\n",
              "      <td>361262.500000</td>\n",
              "      <td>40.000000</td>\n",
              "    </tr>\n",
              "    <tr>\n",
              "      <th>75%</th>\n",
              "      <td>541895.250000</td>\n",
              "      <td>51.000000</td>\n",
              "    </tr>\n",
              "    <tr>\n",
              "      <th>max</th>\n",
              "      <td>722526.000000</td>\n",
              "      <td>81.000000</td>\n",
              "    </tr>\n",
              "  </tbody>\n",
              "</table>\n",
              "</div>\n",
              "      <button class=\"colab-df-convert\" onclick=\"convertToInteractive('df-8ad724d9-340b-46da-9787-7b258f0ad881')\"\n",
              "              title=\"Convert this dataframe to an interactive table.\"\n",
              "              style=\"display:none;\">\n",
              "        \n",
              "  <svg xmlns=\"http://www.w3.org/2000/svg\" height=\"24px\"viewBox=\"0 0 24 24\"\n",
              "       width=\"24px\">\n",
              "    <path d=\"M0 0h24v24H0V0z\" fill=\"none\"/>\n",
              "    <path d=\"M18.56 5.44l.94 2.06.94-2.06 2.06-.94-2.06-.94-.94-2.06-.94 2.06-2.06.94zm-11 1L8.5 8.5l.94-2.06 2.06-.94-2.06-.94L8.5 2.5l-.94 2.06-2.06.94zm10 10l.94 2.06.94-2.06 2.06-.94-2.06-.94-.94-2.06-.94 2.06-2.06.94z\"/><path d=\"M17.41 7.96l-1.37-1.37c-.4-.4-.92-.59-1.43-.59-.52 0-1.04.2-1.43.59L10.3 9.45l-7.72 7.72c-.78.78-.78 2.05 0 2.83L4 21.41c.39.39.9.59 1.41.59.51 0 1.02-.2 1.41-.59l7.78-7.78 2.81-2.81c.8-.78.8-2.07 0-2.86zM5.41 20L4 18.59l7.72-7.72 1.47 1.35L5.41 20z\"/>\n",
              "  </svg>\n",
              "      </button>\n",
              "      \n",
              "  <style>\n",
              "    .colab-df-container {\n",
              "      display:flex;\n",
              "      flex-wrap:wrap;\n",
              "      gap: 12px;\n",
              "    }\n",
              "\n",
              "    .colab-df-convert {\n",
              "      background-color: #E8F0FE;\n",
              "      border: none;\n",
              "      border-radius: 50%;\n",
              "      cursor: pointer;\n",
              "      display: none;\n",
              "      fill: #1967D2;\n",
              "      height: 32px;\n",
              "      padding: 0 0 0 0;\n",
              "      width: 32px;\n",
              "    }\n",
              "\n",
              "    .colab-df-convert:hover {\n",
              "      background-color: #E2EBFA;\n",
              "      box-shadow: 0px 1px 2px rgba(60, 64, 67, 0.3), 0px 1px 3px 1px rgba(60, 64, 67, 0.15);\n",
              "      fill: #174EA6;\n",
              "    }\n",
              "\n",
              "    [theme=dark] .colab-df-convert {\n",
              "      background-color: #3B4455;\n",
              "      fill: #D2E3FC;\n",
              "    }\n",
              "\n",
              "    [theme=dark] .colab-df-convert:hover {\n",
              "      background-color: #434B5C;\n",
              "      box-shadow: 0px 1px 3px 1px rgba(0, 0, 0, 0.15);\n",
              "      filter: drop-shadow(0px 1px 2px rgba(0, 0, 0, 0.3));\n",
              "      fill: #FFFFFF;\n",
              "    }\n",
              "  </style>\n",
              "\n",
              "      <script>\n",
              "        const buttonEl =\n",
              "          document.querySelector('#df-8ad724d9-340b-46da-9787-7b258f0ad881 button.colab-df-convert');\n",
              "        buttonEl.style.display =\n",
              "          google.colab.kernel.accessAllowed ? 'block' : 'none';\n",
              "\n",
              "        async function convertToInteractive(key) {\n",
              "          const element = document.querySelector('#df-8ad724d9-340b-46da-9787-7b258f0ad881');\n",
              "          const dataTable =\n",
              "            await google.colab.kernel.invokeFunction('convertToInteractive',\n",
              "                                                     [key], {});\n",
              "          if (!dataTable) return;\n",
              "\n",
              "          const docLinkHtml = 'Like what you see? Visit the ' +\n",
              "            '<a target=\"_blank\" href=https://colab.research.google.com/notebooks/data_table.ipynb>data table notebook</a>'\n",
              "            + ' to learn more about interactive tables.';\n",
              "          element.innerHTML = '';\n",
              "          dataTable['output_type'] = 'display_data';\n",
              "          await google.colab.output.renderOutput(dataTable, element);\n",
              "          const docLink = document.createElement('div');\n",
              "          docLink.innerHTML = docLinkHtml;\n",
              "          element.appendChild(docLink);\n",
              "        }\n",
              "      </script>\n",
              "    </div>\n",
              "  </div>\n",
              "  "
            ]
          },
          "metadata": {},
          "execution_count": 59
        }
      ]
    },
    {
      "cell_type": "code",
      "source": [
        "duplicados = df[df.duplicated(keep='first')] #identificar dados duplicados\n",
        "print(duplicados)"
      ],
      "metadata": {
        "colab": {
          "base_uri": "https://localhost:8080/"
        },
        "id": "FUwjGA2tRQCT",
        "outputId": "c61a6f26-890d-47bb-b987-c6f372206fa3"
      },
      "execution_count": 60,
      "outputs": [
        {
          "output_type": "stream",
          "name": "stdout",
          "text": [
            "Empty DataFrame\n",
            "Columns: [id, id_aih, cnes, cnes_nome, cnes_bairro, nascimento, idade, sexo, raca, nacionalidade, bairro, municipio, uf, procedimento_solicitado, mudou_prc_solicitado, procedimento_realizado, diag_principal, carater, modalidade_internacao, data_intern, data_saida, mot_saida]\n",
            "Index: []\n",
            "\n",
            "[0 rows x 22 columns]\n"
          ]
        }
      ]
    },
    {
      "cell_type": "code",
      "source": [
        "df.drop_duplicates(keep='first', inplace=True) #Remover os dados duplicados\n"
      ],
      "metadata": {
        "id": "ECjMxfy_U4vc"
      },
      "execution_count": 61,
      "outputs": []
    },
    {
      "cell_type": "code",
      "source": [
        "#df.drop([\"ibge\", \"diag_sec\", \"causa_compl\", \"causa_obito\"], axis=1, inplace=True)#Remover colunas"
      ],
      "metadata": {
        "id": "sOIUY17WX5sr"
      },
      "execution_count": 64,
      "outputs": []
    },
    {
      "cell_type": "code",
      "source": [
        "df.dropna(inplace=True)#excluir linhas com dados faltantes\n"
      ],
      "metadata": {
        "id": "20GzyYk6ZKXy"
      },
      "execution_count": null,
      "outputs": []
    },
    {
      "cell_type": "code",
      "source": [
        "#Transformei o cnes em String\n",
        "categorical_cols = ['cnes']\n",
        " \n",
        "def to_type(DataFrame, columns, type):\n",
        "    for col in columns:\n",
        "        DataFrame[col] = DataFrame[col].astype(type)\n",
        " \n",
        "to_type(df, categorical_cols, 'category')"
      ],
      "metadata": {
        "id": "8go4XPI9ajrn"
      },
      "execution_count": null,
      "outputs": []
    },
    {
      "cell_type": "code",
      "source": [
        "df.boxplot(['idade'])"
      ],
      "metadata": {
        "colab": {
          "base_uri": "https://localhost:8080/",
          "height": 282
        },
        "id": "1_PT0RXrbNgC",
        "outputId": "0fc26c04-1b0a-4db8-8ae3-c41683ddc531"
      },
      "execution_count": null,
      "outputs": [
        {
          "output_type": "execute_result",
          "data": {
            "text/plain": [
              "<matplotlib.axes._subplots.AxesSubplot at 0x7fee4add7350>"
            ]
          },
          "metadata": {},
          "execution_count": 30
        },
        {
          "output_type": "display_data",
          "data": {
            "text/plain": [
              "<Figure size 432x288 with 1 Axes>"
            ],
            "image/png": "[encoded data removed]"
          },
          "metadata": {
            "needs_background": "light"
          }
        }
      ]
    },
    {
      "cell_type": "code",
      "source": [],
      "metadata": {
        "id": "dG19cPotds20"
      },
      "execution_count": null,
      "outputs": []
    },
    {
      "cell_type": "code",
      "source": [
        "def exclui_outliers(DataFrame, col_name): #limpeza dos outliers\n",
        "  intervalo = 2.7*DataFrame[col_name].std()\n",
        "  media = DataFrame[col_name].mean()\n",
        "  DataFrame.loc[df[col_name] < (media - intervalo), col_name] = np.nan\n",
        "  DataFrame.loc[df[col_name] > (media + intervalo), col_name] = np.nan\n",
        "\n",
        "numerical_cols = ['idade']\n",
        "for col in numerical_cols:\n",
        "  exclui_outliers(df, col)"
      ],
      "metadata": {
        "id": "5WEWlB4pdJE5"
      },
      "execution_count": null,
      "outputs": []
    },
    {
      "cell_type": "code",
      "source": [
        "df.boxplot(['idade'])"
      ],
      "metadata": {
        "colab": {
          "base_uri": "https://localhost:8080/",
          "height": 282
        },
        "id": "Dy2d_QrJduPq",
        "outputId": "03940c35-c193-4dc4-f4e0-78801d6b0091"
      },
      "execution_count": null,
      "outputs": [
        {
          "output_type": "execute_result",
          "data": {
            "text/plain": [
              "<matplotlib.axes._subplots.AxesSubplot at 0x7fee4ab2add0>"
            ]
          },
          "metadata": {},
          "execution_count": 32
        },
        {
          "output_type": "display_data",
          "data": {
            "text/plain": [
              "<Figure size 432x288 with 1 Axes>"
            ],
            "image/png": "[encoded data removed]"
          },
          "metadata": {
            "needs_background": "light"
          }
        }
      ]
    },
    {
      "cell_type": "code",
      "source": [
        "df.columns"
      ],
      "metadata": {
        "colab": {
          "base_uri": "https://localhost:8080/"
        },
        "id": "ky_XJ20uh6tx",
        "outputId": "333ae5b3-3fe1-45fc-8e1d-af17e023f395"
      },
      "execution_count": null,
      "outputs": [
        {
          "output_type": "execute_result",
          "data": {
            "text/plain": [
              "Index(['id', 'id_aih', 'cnes', 'cnes_nome', 'cnes_bairro', 'nascimento',\n",
              "       'idade', 'sexo', 'raca', 'nacionalidade', 'bairro', 'municipio', 'uf',\n",
              "       'procedimento_solicitado', 'mudou_prc_solicitado',\n",
              "       'procedimento_realizado', 'diag_principal', 'carater',\n",
              "       'modalidade_internacao', 'data_intern', 'data_saida', 'mot_saida'],\n",
              "      dtype='object')"
            ]
          },
          "metadata": {},
          "execution_count": 34
        }
      ]
    },
    {
      "cell_type": "code",
      "source": [],
      "metadata": {
        "id": "Zoqr0NHKmOSd"
      },
      "execution_count": null,
      "outputs": []
    },
    {
      "cell_type": "code",
      "source": [],
      "metadata": {
        "id": "1RYZacldl1xl"
      },
      "execution_count": null,
      "outputs": []
    },
    {
      "cell_type": "code",
      "source": [
        "df['cnes'].unique()"
      ],
      "metadata": {
        "id": "2Icd0siEhsnF"
      },
      "execution_count": null,
      "outputs": []
    },
    {
      "cell_type": "code",
      "source": [
        "df['cnes_nome'].unique()"
      ],
      "metadata": {
        "id": "Xin6OnBziHWY"
      },
      "execution_count": null,
      "outputs": []
    },
    {
      "cell_type": "code",
      "source": [
        "df['cnes_bairro'].unique()"
      ],
      "metadata": {
        "id": "YqoNLmDXiTqM"
      },
      "execution_count": null,
      "outputs": []
    },
    {
      "cell_type": "code",
      "source": [
        "df['nascimento'].unique()"
      ],
      "metadata": {
        "id": "DT65ITqHikNv"
      },
      "execution_count": null,
      "outputs": []
    },
    {
      "cell_type": "code",
      "source": [
        "df['idade'].unique() #limpar idade ou refazer"
      ],
      "metadata": {
        "id": "g7nhe0clipk8"
      },
      "execution_count": null,
      "outputs": []
    },
    {
      "cell_type": "code",
      "source": [
        "df['sexo'].unique()"
      ],
      "metadata": {
        "id": "0WecZOXEi1fw"
      },
      "execution_count": null,
      "outputs": []
    },
    {
      "cell_type": "code",
      "source": [
        "df['raca'].unique()"
      ],
      "metadata": {
        "id": "ALdypaY0jFP-"
      },
      "execution_count": null,
      "outputs": []
    },
    {
      "cell_type": "code",
      "source": [
        "df['nacionalidade'].unique()"
      ],
      "metadata": {
        "id": "jjH3lXThjXPI"
      },
      "execution_count": null,
      "outputs": []
    },
    {
      "cell_type": "code",
      "source": [
        "df['bairro'].unique()"
      ],
      "metadata": {
        "id": "0o82HhRsjpQs"
      },
      "execution_count": null,
      "outputs": []
    },
    {
      "cell_type": "code",
      "source": [
        "df['municipio'].unique()"
      ],
      "metadata": {
        "id": "Omys2KKsjvsq"
      },
      "execution_count": null,
      "outputs": []
    },
    {
      "cell_type": "code",
      "source": [
        "df['uf'].unique()"
      ],
      "metadata": {
        "id": "w6lQFvCAj36l"
      },
      "execution_count": null,
      "outputs": []
    },
    {
      "cell_type": "code",
      "source": [
        "df['procedimento_solicitado'].unique() #è uma boa ideia separar esses dois"
      ],
      "metadata": {
        "id": "3JAwZtpokmdc"
      },
      "execution_count": null,
      "outputs": []
    },
    {
      "cell_type": "code",
      "source": [
        "df['mudou_prc_solicitado'].unique()"
      ],
      "metadata": {
        "colab": {
          "base_uri": "https://localhost:8080/"
        },
        "id": "Ed1ZyiOylnmx",
        "outputId": "3bac40a8-fa0a-4eae-af55-c08dc2a63c3d"
      },
      "execution_count": null,
      "outputs": [
        {
          "output_type": "execute_result",
          "data": {
            "text/plain": [
              "array(['NAO', 'SIM'], dtype=object)"
            ]
          },
          "metadata": {},
          "execution_count": 48
        }
      ]
    },
    {
      "cell_type": "code",
      "source": [
        "df['procedimento_realizado'].unique()"
      ],
      "metadata": {
        "id": "TYwoA4vxlx0E"
      },
      "execution_count": null,
      "outputs": []
    },
    {
      "cell_type": "code",
      "source": [
        "df['carater'].unique()"
      ],
      "metadata": {
        "colab": {
          "base_uri": "https://localhost:8080/"
        },
        "id": "fIZ2qTEhl28X",
        "outputId": "5fc4fa69-5776-4107-b046-1ce7ba6c6ae6"
      },
      "execution_count": null,
      "outputs": [
        {
          "output_type": "execute_result",
          "data": {
            "text/plain": [
              "array(['02-URGENCIA', '01-ELETIVO'], dtype=object)"
            ]
          },
          "metadata": {},
          "execution_count": 50
        }
      ]
    },
    {
      "cell_type": "code",
      "source": [
        "df['diag_principal'].unique()"
      ],
      "metadata": {
        "id": "JlC5Hbf5mfkc"
      },
      "execution_count": null,
      "outputs": []
    },
    {
      "cell_type": "code",
      "source": [
        "df['modalidade_internacao'].unique() #limpar essa linha com data"
      ],
      "metadata": {
        "id": "B_bmjMvjnfCE"
      },
      "execution_count": null,
      "outputs": []
    },
    {
      "cell_type": "code",
      "source": [
        "df['mot_saida'].unique()"
      ],
      "metadata": {
        "colab": {
          "base_uri": "https://localhost:8080/"
        },
        "id": "d4_LQPqconNV",
        "outputId": "15a48952-e13d-4680-cffc-b3ad9877fd09"
      },
      "execution_count": null,
      "outputs": [
        {
          "output_type": "execute_result",
          "data": {
            "text/plain": [
              "array(['12-ALTA MELHORADO', '27-PERMANENCIA POR REOPERACAO',\n",
              "       '51-ENCERRAMENTO ADMINISTRATIVO', '18-ALTA POR OUTROS MOTIVOS',\n",
              "       '26-PERMANENCIA POR MUDANCA DE PROCEDIMENTO',\n",
              "       '31-TRANSFERENCIA PARA OUTRO ESTABELECIMENTO',\n",
              "       '16-ALTA POR EVASAO', '14-ALTA A PEDIDO',\n",
              "       '21-PERMANENCIA POR CARACTERISTICAS PROPRIAS DA DOENcA',\n",
              "       '22-PERMANENCIA POR INTERCORRENCIA',\n",
              "       '15-ALTA COM PREVISAO DE RETORNO PARA ACOMPANHAMENTO',\n",
              "       '43-OBITO COM DECLARACAO FORNECIDA PELO SERVICO DE VERIFICACAO DE OBITO - SVO',\n",
              "       '41-OBITO COM DECLARACAO FORNECIDA PELO MEDICO ASSISTENTE',\n",
              "       '28-PERMANENCIA POR OUTROS MOTIVOS',\n",
              "       '23-PERMANENCIA POR IMPOSSIBILIDADE SOCIO-FAMILIAR',\n",
              "       '42-OBITO COM DECLARACAO FORNECIDA PELO INSTITUTO MEDICO LEGAL - IML',\n",
              "       '19-ALTA DE PACIENTE AGUDO', '11-ALTA CURADO',\n",
              "       '61-ALTA DA M?E/PUERPERA E DO RECEM-NASCIDO',\n",
              "       '32-TRANFERENCIA PARA A INTERNAC?O DOMICILIAR',\n",
              "       '25-PERMANENCIA POR PROCESSO DE DOACAO DE ORGAOS, TECIDOS E CELULAS - DOADOR MORTO',\n",
              "       '24-PERMANENCIA POR PROCESSO DE DOACAO DE ORGAOS, TECIDOS E CELULAS - DOADOR VIVO',\n",
              "       '62-ALTA DA M?E/PUERPERA E PERMANENCIA DO RECEM-NASCIDO'],\n",
              "      dtype=object)"
            ]
          },
          "metadata": {},
          "execution_count": 54
        }
      ]
    }
  ]
}